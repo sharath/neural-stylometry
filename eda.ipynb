{
 "cells": [
  {
   "cell_type": "code",
   "execution_count": 1,
   "metadata": {},
   "outputs": [],
   "source": [
    "from common import get_dataset\n",
    "import matplotlib.pyplot as plt\n",
    "import numpy as np"
   ]
  },
  {
   "cell_type": "code",
   "execution_count": 2,
   "metadata": {},
   "outputs": [],
   "source": [
    "train, test = get_dataset()"
   ]
  },
  {
   "cell_type": "code",
   "execution_count": 3,
   "metadata": {},
   "outputs": [],
   "source": [
    "data = []\n",
    "data_words = []\n",
    "for k in train.keys():\n",
    "    num_emails = len(train[k]) + len(test[k])\n",
    "    data.append((k, num_emails))\n",
    "    \n",
    "    word_count = 0\n",
    "    for fn in train[k]:\n",
    "        with open(fn, 'r') as fp:\n",
    "            t = fp.readlines()\n",
    "        word_count += sum([len(i.split(' ')) for i in t])\n",
    "    \n",
    "    for fn in train[k]:\n",
    "        with open(fn, 'r') as fp:\n",
    "            t = fp.readlines()\n",
    "        word_count += sum([len(i.split(' ')) for i in t])\n",
    "    data_words.append((k, word_count / num_emails))"
   ]
  },
  {
   "cell_type": "code",
   "execution_count": 4,
   "metadata": {},
   "outputs": [],
   "source": [
    "data.sort(key=lambda x : x[1])\n",
    "temp = [i[0] for i in data]\n",
    "data_words.sort(key=lambda x : temp.index(x[0]))"
   ]
  },
  {
   "cell_type": "code",
   "execution_count": 5,
   "metadata": {},
   "outputs": [
    {
     "data": {
      "image/png": "[encoded data removed]",
      "text/plain": [
       "<matplotlib.figure.Figure at 0x7fec489ea128>"
      ]
     },
     "metadata": {
      "needs_background": "light"
     },
     "output_type": "display_data"
    }
   ],
   "source": [
    "plt.gcf().set_figwidth(15)\n",
    "plt.subplot(1,2,1)\n",
    "plt.barh(np.arange(len(data)), [i[1] for i in data], height=0.5)\n",
    "plt.yticks([])\n",
    "plt.ylim(0, len(data))\n",
    "plt.ylabel('Author')\n",
    "plt.xlabel('Emails Written')\n",
    "\n",
    "plt.subplot(1,2,2)\n",
    "\n",
    "plt.barh(np.arange(len(data_words)), [i[1] for i in data_words], height=0.5)\n",
    "plt.yticks([])\n",
    "plt.ylim(0, len(data_words))\n",
    "plt.xlabel('Average Word Count')\n",
    "\n",
    "plt.savefig('class_imbalance', bbox_inches='tight')"
   ]
  },
  {
   "cell_type": "code",
   "execution_count": 6,
   "metadata": {},
   "outputs": [
    {
     "data": {
      "text/plain": [
       "<matplotlib.collections.PathCollection at 0x7fec4671bb70>"
      ]
     },
     "execution_count": 6,
     "metadata": {},
     "output_type": "execute_result"
    },
    {
     "data": {
      "image/png": "[encoded data removed]",
      "text/plain": [
       "<matplotlib.figure.Figure at 0x7fec468c7390>"
      ]
     },
     "metadata": {
      "needs_background": "light"
     },
     "output_type": "display_data"
    }
   ],
   "source": [
    "plt.scatter([i[1] for i in data], [i[1] for i in data_words])"
   ]
  }
 ],
 "metadata": {
  "kernelspec": {
   "display_name": "Python 3",
   "language": "python",
   "name": "python3"
  },
  "language_info": {
   "codemirror_mode": {
    "name": "ipython",
    "version": 3
   },
   "file_extension": ".py",
   "mimetype": "text/x-python",
   "name": "python",
   "nbconvert_exporter": "python",
   "pygments_lexer": "ipython3",
   "version": "3.6.8"
  }
 },
 "nbformat": 4,
 "nbformat_minor": 4
}
