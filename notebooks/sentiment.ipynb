{
 "cells": [
  {
   "cell_type": "code",
   "execution_count": 1,
   "metadata": {},
   "outputs": [],
   "source": [
    "import os, sys, re\n",
    "import nltk\n",
    "import numpy as np \n",
    "import matplotlib.pyplot as plt\n",
    "import matplotlib.dates as mdates\n",
    "from matplotlib.dates import date2num\n",
    "\n",
    "from datetime import datetime, date, time, timedelta\n",
    "from collections import defaultdict\n",
    "from nltk.sentiment.vader import SentimentIntensityAnalyzer\n",
    "from tqdm import tqdm\n",
    "\n",
    "sys.path.append(os.path.join(os.path.dirname('.'), '..'))\n",
    "from common import get_dataset"
   ]
  },
  {
   "cell_type": "code",
   "execution_count": 2,
   "metadata": {},
   "outputs": [],
   "source": [
    "exclude_headers = [\n",
    "    \"Message-ID:\",\n",
    "    \"From:\",\n",
    "    \"To:\",\n",
    "    \"Subject:\",\n",
    "    \"Mime-Version:\",\n",
    "    \"Content-Type:\",\n",
    "    \"Content-Transfer-Encoding:\",\n",
    "    \"X-From:\",\n",
    "    \"X-To:\",\n",
    "    \"X-cc: \",\n",
    "    \"X-bcc: \",\n",
    "    \"X-Folder:\",\n",
    "    \"X-Origin:\",\n",
    "    \"X-FileName:\"\n",
    "]"
   ]
  },
  {
   "cell_type": "code",
   "execution_count": 3,
   "metadata": {},
   "outputs": [],
   "source": [
    "def load_data(dataset, text_list, time_list):\n",
    "    date_tag = \"Date:\"\n",
    "    for _, files in dataset.items():\n",
    "        for file in files:\n",
    "            with open(os.path.join('..', file), 'r') as fp:\n",
    "                lines = fp.readlines()\n",
    "                stripped = []\n",
    "                for line in lines:\n",
    "                    remove = False\n",
    "                    if date_tag in line:\n",
    "                        curr_time = line\n",
    "                        remove = True \n",
    "                    for t in exclude_headers:\n",
    "                        if t in line:\n",
    "                            remove = True\n",
    "                    if remove:\n",
    "                        continue\n",
    "                    stripped.append(line)\n",
    "                tokens = [i for i in nltk.wordpunct_tokenize(''.join(stripped).lower())]\n",
    "\n",
    "                text_list.append(' '.join(tokens))\n",
    "                time_list.append(curr_time)\n"
   ]
  },
  {
   "cell_type": "code",
   "execution_count": 4,
   "metadata": {},
   "outputs": [],
   "source": [
    "def get_sentiment(out):\n",
    "\tif out['pos'] > out['neg']:\n",
    "\t\treturn 'pos'\n",
    "\telif out['neg'] > out['pos']:\n",
    "\t\treturn 'neg'\n",
    "\telse:\n",
    "\t\treturn 'neu'"
   ]
  },
  {
   "cell_type": "code",
   "execution_count": 5,
   "metadata": {},
   "outputs": [],
   "source": [
    "def get_time_bin(timestamp):\n",
    "    match = re.search(r'\\d{2}:\\d{2}:\\d{2}', timestamp).group().split(':')\n",
    "    val = int(match[0]) * 60 * 60 + int(match[1]) * 60 + int(match[2])\n",
    "    return val // (30 * 60)"
   ]
  },
  {
   "cell_type": "code",
   "execution_count": 6,
   "metadata": {},
   "outputs": [],
   "source": [
    "train, test = get_dataset(dataset_dir=os.path.join('..', 'dataset'))\n",
    "texts, timestamps = [], [] \n",
    "load_data(train, texts, timestamps)\n",
    "load_data(test, texts, timestamps)"
   ]
  },
  {
   "cell_type": "code",
   "execution_count": 7,
   "metadata": {},
   "outputs": [],
   "source": [
    "sentiment_counter = {\n",
    "\t'pos': 0,\n",
    "\t'neg': 0,\n",
    "\t'neu': 0\n",
    "}\n",
    "\n",
    "pos_bins, neg_bins, total_bins = {}, {}, {}\n",
    "for t in range(48):\n",
    "\tpos_bins[t] = 0\n",
    "\tneg_bins[t] = 0\n",
    "\ttotal_bins[t] = 0\n"
   ]
  },
  {
   "cell_type": "code",
   "execution_count": 8,
   "metadata": {},
   "outputs": [
    {
     "name": "stderr",
     "output_type": "stream",
     "text": [
      "100%|██████████| 30109/30109 [03:38<00:00, 138.02it/s]\n"
     ]
    }
   ],
   "source": [
    "for i in tqdm(range(len(texts))):\n",
    "    sid = SentimentIntensityAnalyzer()\n",
    "\n",
    "    seq = texts[i]\n",
    "    ss = sid.polarity_scores(seq)\n",
    "    sentiment = get_sentiment(ss)\n",
    "    sentiment_counter[sentiment] += 1\n",
    "\n",
    "    try:\n",
    "        curr_bin = get_time_bin(timestamps[i])\n",
    "        if sentiment == 'pos':\n",
    "            pos_bins[curr_bin] += 1\n",
    "        else:\n",
    "            neg_bins[curr_bin] += 1\n",
    "        total_bins[curr_bin] += 1\n",
    "    except:\n",
    "        pass"
   ]
  },
  {
   "cell_type": "code",
   "execution_count": 9,
   "metadata": {},
   "outputs": [],
   "source": [
    "for t in range(48):\n",
    "\tif total_bins[t] == 0:\n",
    "\t\tcontinue\n",
    "\n",
    "\tpos_bins[t] = pos_bins[t] / total_bins[t]\n",
    "\tneg_bins[t] = neg_bins[t] / total_bins[t]"
   ]
  },
  {
   "cell_type": "code",
   "execution_count": 10,
   "metadata": {},
   "outputs": [],
   "source": [
    "pos_vals = np.fromiter(pos_bins.values(), dtype=float)\n",
    "neg_vals = np.fromiter(neg_bins.values(), dtype=float)"
   ]
  },
  {
   "cell_type": "code",
   "execution_count": 11,
   "metadata": {},
   "outputs": [
    {
     "data": {
      "image/png": "[encoded data removed]",
      "text/plain": [
       "<matplotlib.figure.Figure at 0x7f97a3bd90f0>"
      ]
     },
     "metadata": {
      "needs_background": "light"
     },
     "output_type": "display_data"
    }
   ],
   "source": [
    "base = time(0, 0, 0)\n",
    "hour_list = np.array([datetime.combine(date.today(), base) + timedelta(minutes=i*30) for i in range(48)])\n",
    "\n",
    "plt.plot(hour_list, pos_vals - neg_vals)\n",
    "\n",
    "xformatter = mdates.DateFormatter('%H:%M')\n",
    "plt.gcf().axes[0].xaxis.set_major_formatter(xformatter)\n",
    "\n",
    "plt.xlabel('Email Sent Time')\n",
    "plt.ylabel('Sentiment')\n",
    "plt.title('Sentiment throughout the day')\n",
    "plt.ylim(-1, 1)\n",
    "plt.savefig('average-sentiment')\n",
    "plt.show()"
   ]
  }
 ],
 "metadata": {
  "kernelspec": {
   "display_name": "Python 3",
   "language": "python",
   "name": "python3"
  },
  "language_info": {
   "codemirror_mode": {
    "name": "ipython",
    "version": 3
   },
   "file_extension": ".py",
   "mimetype": "text/x-python",
   "name": "python",
   "nbconvert_exporter": "python",
   "pygments_lexer": "ipython3",
   "version": "3.6.9"
  }
 },
 "nbformat": 4,
 "nbformat_minor": 4
}
